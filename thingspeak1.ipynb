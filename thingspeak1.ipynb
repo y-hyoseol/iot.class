{
  "nbformat": 4,
  "nbformat_minor": 0,
  "metadata": {
    "colab": {
      "provenance": [],
      "authorship_tag": "ABX9TyOlfLwZmmqW/WSsEna8zEXI",
      "include_colab_link": true
    },
    "kernelspec": {
      "name": "python3",
      "display_name": "Python 3"
    },
    "language_info": {
      "name": "python"
    }
  },
  "cells": [
    {
      "cell_type": "markdown",
      "metadata": {
        "id": "view-in-github",
        "colab_type": "text"
      },
      "source": [
        "<a href=\"https://colab.research.google.com/github/y-hyoseol/iot.class/blob/main/thingspeak1.ipynb\" target=\"_parent\"><img src=\"https://colab.research.google.com/assets/colab-badge.svg\" alt=\"Open In Colab\"/></a>"
      ]
    },
    {
      "cell_type": "code",
      "execution_count": 1,
      "metadata": {
        "id": "1hyR6LYYeNqT"
      },
      "outputs": [],
      "source": [
        "import requests"
      ]
    },
    {
      "cell_type": "code",
      "source": [
        "r = requests.get('https://api.thingspeak.com/update?api_key=X9TGYVXR8IF150HL&field1=90')\n",
        "print(r.text)"
      ],
      "metadata": {
        "colab": {
          "base_uri": "https://localhost:8080/"
        },
        "id": "AbNWzijvfQlE",
        "outputId": "cbf319e7-2263-4a6a-e3e0-133929e69ba8"
      },
      "execution_count": 3,
      "outputs": [
        {
          "output_type": "stream",
          "name": "stdout",
          "text": [
            "0\n"
          ]
        }
      ]
    },
    {
      "cell_type": "code",
      "source": [
        "import time\n",
        "values=[11, 22, 33, 44, 55, 66, 77]\n",
        "for v in values:\n",
        "  r=requests.get(f'https://api.thingspeak.com/update?api_key=X9TGYVXR8IF150HL&field1={v}')\n",
        "  print(r.text)\n",
        "  time.sleep(20)\n",
        "print('done')"
      ],
      "metadata": {
        "colab": {
          "base_uri": "https://localhost:8080/"
        },
        "id": "wf-sOZfdfU9i",
        "outputId": "33c59c91-298b-4448-b20d-31946ad63ff4"
      },
      "execution_count": 7,
      "outputs": [
        {
          "output_type": "stream",
          "name": "stdout",
          "text": [
            "9\n",
            "10\n",
            "11\n",
            "12\n",
            "13\n",
            "14\n",
            "15\n",
            "done\n"
          ]
        }
      ]
    },
    {
      "cell_type": "code",
      "source": [
        "import time\n",
        "import random\n",
        "for i in range(6):\n",
        "  v = random.randint(0,100)\n",
        "  r=requests.get(f'https://api.thingspeak.com/update?api_key=X9TGYVXR8IF150HL&field1={v}')\n",
        "  print(r.text)\n",
        "  time.sleep(20)\n",
        "print('done')"
      ],
      "metadata": {
        "colab": {
          "base_uri": "https://localhost:8080/"
        },
        "id": "Duj6R5byfVrz",
        "outputId": "190ea71c-b6d5-4dd3-a06e-f865011b503e"
      },
      "execution_count": 8,
      "outputs": [
        {
          "output_type": "stream",
          "name": "stdout",
          "text": [
            "16\n",
            "17\n",
            "18\n",
            "19\n",
            "20\n",
            "21\n",
            "done\n"
          ]
        }
      ]
    }
  ]
}