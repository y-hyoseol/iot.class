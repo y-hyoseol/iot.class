{
  "nbformat": 4,
  "nbformat_minor": 0,
  "metadata": {
    "colab": {
      "provenance": [],
      "authorship_tag": "ABX9TyPAsLA27Uo4JPNbRuLIZ3u/",
      "include_colab_link": true
    },
    "kernelspec": {
      "name": "python3",
      "display_name": "Python 3"
    },
    "language_info": {
      "name": "python"
    }
  },
  "cells": [
    {
      "cell_type": "markdown",
      "metadata": {
        "id": "view-in-github",
        "colab_type": "text"
      },
      "source": [
        "<a href=\"https://colab.research.google.com/github/y-hyoseol/iot.class/blob/main/bus_check.ipynb\" target=\"_parent\"><img src=\"https://colab.research.google.com/assets/colab-badge.svg\" alt=\"Open In Colab\"/></a>"
      ]
    },
    {
      "cell_type": "code",
      "execution_count": 13,
      "metadata": {
        "colab": {
          "base_uri": "https://localhost:8080/"
        },
        "id": "eCIMeGZk-cna",
        "outputId": "87a5468b-39f8-4103-bbbe-7c849335e8d7"
      },
      "outputs": [
        {
          "output_type": "stream",
          "name": "stdout",
          "text": [
            "<?xml version=\"1.0\" encoding=\"UTF-8\" standalone=\"yes\"?><response><comMsgHeader/><msgHeader><queryTime>2024-03-17 11:16:40.090</queryTime><resultCode>0</resultCode><resultMessage>정상적으로 처리되었습니다.</resultMessage></msgHeader><msgBody><busLocationList><endBus>0</endBus><lowPlate>0</lowPlate><plateNo>경기79바1626</plateNo><plateType>3</plateType><remainSeatCnt>38</remainSeatCnt><routeId>232000007</routeId><stationId>115000896</stationId><stationSeq>31</stationSeq></busLocationList><busLocationList><endBus>0</endBus><lowPlate>0</lowPlate><plateNo>경기79바1640</plateNo><plateType>3</plateType><remainSeatCnt>39</remainSeatCnt><routeId>232000007</routeId><stationId>232000705</stationId><stationSeq>71</stationSeq></busLocationList><busLocationList><endBus>0</endBus><lowPlate>0</lowPlate><plateNo>경기79바1631</plateNo><plateType>3</plateType><remainSeatCnt>41</remainSeatCnt><routeId>232000007</routeId><stationId>232000629</stationId><stationSeq>1</stationSeq></busLocationList><busLocationList><endBus>0</endBus><lowPlate>0</lowPlate><plateNo>경기79바1627</plateNo><plateType>3</plateType><remainSeatCnt>39</remainSeatCnt><routeId>232000007</routeId><stationId>232000823</stationId><stationSeq>12</stationSeq></busLocationList><busLocationList><endBus>0</endBus><lowPlate>0</lowPlate><plateNo>경기79바1659</plateNo><plateType>3</plateType><remainSeatCnt>40</remainSeatCnt><routeId>232000007</routeId><stationId>118000501</stationId><stationSeq>44</stationSeq></busLocationList></msgBody></response>\n"
          ]
        }
      ],
      "source": [
        "import requests\n",
        "url='http://openapi.gbis.go.kr/ws/rest/buslocationservice?serviceKey=1234567890&routeId=232000007'\n",
        "r = requests.get(url)\n",
        "print(r.text)"
      ]
    },
    {
      "cell_type": "code",
      "source": [
        "from bs4 import BeautifulSoup\n",
        "\n",
        "soup = BeautifulSoup(r.text, features=\"xml\")"
      ],
      "metadata": {
        "id": "SshNsiTSLEWr"
      },
      "execution_count": 18,
      "outputs": []
    },
    {
      "cell_type": "code",
      "source": [
        "soup.find_all('stationId')"
      ],
      "metadata": {
        "colab": {
          "base_uri": "https://localhost:8080/"
        },
        "id": "FflOLKtvLn9Q",
        "outputId": "94f3aa17-0ebc-45dd-a642-b171248259eb"
      },
      "execution_count": 19,
      "outputs": [
        {
          "output_type": "execute_result",
          "data": {
            "text/plain": [
              "[<stationId>115000896</stationId>,\n",
              " <stationId>232000705</stationId>,\n",
              " <stationId>232000629</stationId>,\n",
              " <stationId>232000823</stationId>,\n",
              " <stationId>118000501</stationId>]"
            ]
          },
          "metadata": {},
          "execution_count": 19
        }
      ]
    },
    {
      "cell_type": "code",
      "source": [
        "print('학번=', 2467023, '이름=', '윤효설')"
      ],
      "metadata": {
        "colab": {
          "base_uri": "https://localhost:8080/"
        },
        "id": "6qGvvqpdLvR9",
        "outputId": "393c7d3a-d41b-474d-a137-e2ce491e171e"
      },
      "execution_count": 10,
      "outputs": [
        {
          "output_type": "stream",
          "name": "stdout",
          "text": [
            "학번= 2467023 이름= 윤효설\n"
          ]
        }
      ]
    }
  ]
}