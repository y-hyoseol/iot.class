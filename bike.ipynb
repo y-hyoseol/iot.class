{
  "nbformat": 4,
  "nbformat_minor": 0,
  "metadata": {
    "colab": {
      "provenance": [],
      "authorship_tag": "ABX9TyPL7E5MS4ewttoWgdJTSl3E",
      "include_colab_link": true
    },
    "kernelspec": {
      "name": "python3",
      "display_name": "Python 3"
    },
    "language_info": {
      "name": "python"
    }
  },
  "cells": [
    {
      "cell_type": "markdown",
      "metadata": {
        "id": "view-in-github",
        "colab_type": "text"
      },
      "source": [
        "<a href=\"https://colab.research.google.com/github/y-hyoseol/iot.class/blob/main/bike.ipynb\" target=\"_parent\"><img src=\"https://colab.research.google.com/assets/colab-badge.svg\" alt=\"Open In Colab\"/></a>"
      ]
    },
    {
      "cell_type": "code",
      "execution_count": 1,
      "metadata": {
        "colab": {
          "base_uri": "https://localhost:8080/"
        },
        "id": "-oKAoBIKkeGQ",
        "outputId": "f94d8315-59a8-41cf-d00d-a1e428f68037"
      },
      "outputs": [
        {
          "output_type": "stream",
          "name": "stdout",
          "text": [
            "<?xml version=\"1.0\" encoding=\"ISO-8859-15\"?><rentBikeStatus><rentBikeStatus><list_total_count>7</list_total_count><row><shared>207</shared><stationLatitude>37.55564880</stationLatitude><stationLongitude>126.91062927</stationLongitude><stationName>102. 망원역 1번출구 앞</stationName><parkingBikeTotCnt>31</parkingBikeTotCnt><rackTotCnt>15</rackTotCnt><stationId>ST-4</stationId></row><row><shared>150</shared><stationLatitude>37.55495071</stationLatitude><stationLongitude>126.91083527</stationLongitude><stationName>103. 망원역 2번출구 앞</stationName><parkingBikeTotCnt>21</parkingBikeTotCnt><rackTotCnt>14</rackTotCnt><stationId>ST-5</stationId></row><row><shared>154</shared><stationLatitude>37.55073929</stationLatitude><stationLongitude>126.91508484</stationLongitude><stationName>104. 합정역 1번출구 앞</stationName><parkingBikeTotCnt>20</parkingBikeTotCnt><rackTotCnt>13</rackTotCnt><stationId>ST-6</stationId></row><row><shared>180</shared><stationLatitude>37.55000687</stationLatitude><stationLongitude>126.91482544</stationLongitude><stationName>105. 합정역 5번출구 앞</stationName><parkingBikeTotCnt>9</parkingBikeTotCnt><rackTotCnt>5</rackTotCnt><stationId>ST-7</stationId></row><row><shared>75</shared><stationLatitude>37.54864502</stationLatitude><stationLongitude>126.91282654</stationLongitude><stationName>106. 합정역 7번출구 앞</stationName><parkingBikeTotCnt>9</parkingBikeTotCnt><rackTotCnt>12</rackTotCnt><stationId>ST-8</stationId></row><row><shared>480</shared><stationLatitude>37.55751038</stationLatitude><stationLongitude>126.91850281</stationLongitude><stationName>107. 신한은행 서교동지점</stationName><parkingBikeTotCnt>24</parkingBikeTotCnt><rackTotCnt>5</rackTotCnt><stationId>ST-9</stationId></row><row><shared>80</shared><stationLatitude>37.55274582</stationLatitude><stationLongitude>126.91861725</stationLongitude><stationName>108. 서교동 사거리</stationName><parkingBikeTotCnt>8</parkingBikeTotCnt><rackTotCnt>10</rackTotCnt><stationId>ST-10</stationId></row><RESULT><MESSAGE>정상 처리되었습니다.</MESSAGE><CODE>INFO-000</CODE></RESULT></rentBikeStatus></rentBikeStatus>\n"
          ]
        }
      ],
      "source": [
        "import requests\n",
        "r = requests.get('http://openapi.seoul.go.kr:8088/6b414e77637968733734417776484c/xml/bikeList/1/7')\n",
        "print(r.text)"
      ]
    },
    {
      "cell_type": "code",
      "source": [
        "from bs4 import BeautifulSoup\n",
        "soup = BeautifulSoup(r.text, features='xml')"
      ],
      "metadata": {
        "id": "1ZKpXekBp3yc"
      },
      "execution_count": 2,
      "outputs": []
    },
    {
      "cell_type": "code",
      "source": [
        "soup.find_all('parkingBikeTotCnt')"
      ],
      "metadata": {
        "colab": {
          "base_uri": "https://localhost:8080/"
        },
        "id": "qJok5qxFqOrz",
        "outputId": "4dcdcde0-c2c1-40e1-db16-f467371a570b"
      },
      "execution_count": 6,
      "outputs": [
        {
          "output_type": "execute_result",
          "data": {
            "text/plain": [
              "[<parkingBikeTotCnt>31</parkingBikeTotCnt>,\n",
              " <parkingBikeTotCnt>21</parkingBikeTotCnt>,\n",
              " <parkingBikeTotCnt>20</parkingBikeTotCnt>,\n",
              " <parkingBikeTotCnt>9</parkingBikeTotCnt>,\n",
              " <parkingBikeTotCnt>9</parkingBikeTotCnt>,\n",
              " <parkingBikeTotCnt>24</parkingBikeTotCnt>,\n",
              " <parkingBikeTotCnt>8</parkingBikeTotCnt>]"
            ]
          },
          "metadata": {},
          "execution_count": 6
        }
      ]
    },
    {
      "cell_type": "code",
      "source": [
        "print('학번=', 2467023, '이름=', '윤효설')"
      ],
      "metadata": {
        "colab": {
          "base_uri": "https://localhost:8080/"
        },
        "id": "nzO31oH0q2yE",
        "outputId": "c6f976bd-1ca3-490b-a9a7-cf2a797ca10c"
      },
      "execution_count": 7,
      "outputs": [
        {
          "output_type": "stream",
          "name": "stdout",
          "text": [
            "학번= 2467023 이름= 윤효설\n"
          ]
        }
      ]
    }
  ]
}