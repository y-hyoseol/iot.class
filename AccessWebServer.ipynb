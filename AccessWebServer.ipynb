{
  "nbformat": 4,
  "nbformat_minor": 0,
  "metadata": {
    "colab": {
      "provenance": [],
      "authorship_tag": "ABX9TyMzsYlxMYN7q99bFZ+lrWLk",
      "include_colab_link": true
    },
    "kernelspec": {
      "name": "python3",
      "display_name": "Python 3"
    },
    "language_info": {
      "name": "python"
    }
  },
  "cells": [
    {
      "cell_type": "markdown",
      "metadata": {
        "id": "view-in-github",
        "colab_type": "text"
      },
      "source": [
        "<a href=\"https://colab.research.google.com/github/y-hyoseol/iot.class/blob/main/AccessWebServer.ipynb\" target=\"_parent\"><img src=\"https://colab.research.google.com/assets/colab-badge.svg\" alt=\"Open In Colab\"/></a>"
      ]
    },
    {
      "cell_type": "code",
      "execution_count": 34,
      "metadata": {
        "id": "8mMd_JdPV7wk",
        "colab": {
          "base_uri": "https://localhost:8080/"
        },
        "outputId": "9578794a-8632-450b-a023-186a59fd2b7d"
      },
      "outputs": [
        {
          "output_type": "stream",
          "name": "stdout",
          "text": [
            "Received HTTP/1.1 200 OK\r\n",
            "Date: Thu, 28 Mar 2024 05:54:41 GMT\r\n",
            "Expires: -1\r\n",
            "Cache-Control: private, max-age=0\r\n",
            "Content-Type: text/html; charset=ISO-8859-1\r\n",
            "Content-Security-Policy-Report-Only: object-src 'none';base-uri 'self';script-src 'nonce-Jsi--b2VnbZUb3hGidWNTQ' 'strict-dynamic' 'report-sample' 'unsafe-eval' 'unsafe-inline' https: http:;report-uri https://csp.withgoogle.com/csp/gws/other-hp\r\n",
            "P3P: CP=\"This is not a P3P policy! See g.co/p3phelp for more info.\"\r\n",
            "Server: gws\r\n",
            "X-XSS-Protection: 0\r\n",
            "X-Frame-Options: SAMEORIGIN\r\n",
            "Set-Cookie: 1P_JAR=2024-03-28-05; expires=Sat, 27-Apr-2024 05:54:41 GMT; path=/; domain=.google.com; Secure\r\n",
            "Set-Cookie: AEC=Ae3NU9Pbz4-zByMbM8WDr9oNRUkPlT9dqsQ8aYLrGMynIlTt7Gk5B3wypB8; expires=Tue, 24-Sep-2024 05:54:41 GMT; path=/; domain=.google.com; Secure; HttpOnly; SameSite=lax\r\n",
            "Set-Cookie: NID=512=SDUroT3kPoi5m88JUp6ILTUhRliy2TPtYLDNeuvG5CF7a-V_AnyfD2VMpbH1Pww6oHDoZaaw2xdaMcsKlErXEcZGK8llq8Bp9L9c19eU36UXttJy9ARPhgJQw842v6xrfoSRaf3cLBjtimeoQpnu_ncrqeCqufztAHjOjl2zhPc; expires=Fri, 27-Sep-20\n"
          ]
        }
      ],
      "source": [
        "import socket\n",
        "HOST = 'google.com'\n",
        "PORT = 80\n",
        "with socket.socket(socket.AF_INET, socket.SOCK_STREAM) as s:\n",
        "  s.connect((HOST, PORT))\n",
        "  s.sendall(b\"GET / HTTP/1.2\\n\\n\")\n",
        "  data = s.recv(1024)\n",
        "\n",
        "print(f\"Received {data.decode('utf-8')}\")"
      ]
    },
    {
      "cell_type": "code",
      "source": [
        "print('이름: 윤효설', '\\n학번: 2467023', '\\n전공: 사이버보안학과')"
      ],
      "metadata": {
        "colab": {
          "base_uri": "https://localhost:8080/"
        },
        "id": "s2j7GDF3oBIN",
        "outputId": "e8fa3f75-b80f-4cc2-fe35-b181165d94fc"
      },
      "execution_count": 36,
      "outputs": [
        {
          "output_type": "stream",
          "name": "stdout",
          "text": [
            "이름: 윤효설 \n",
            "학번: 2467023 \n",
            "전공: 사이버보안학과\n"
          ]
        }
      ]
    },
    {
      "cell_type": "markdown",
      "source": [],
      "metadata": {
        "id": "jDkCl7xEWvE_"
      }
    }
  ]
}